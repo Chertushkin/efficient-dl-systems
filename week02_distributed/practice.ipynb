{
 "cells": [
  {
   "cell_type": "markdown",
   "metadata": {
    "colab_type": "text",
    "id": "view-in-github"
   },
   "source": [
    "<a href=\"https://colab.research.google.com/gist/justheuristic/4c82ef4d448ce62cb5459484f66f56aa/practice.ipynb\" target=\"_parent\"><img src=\"https://colab.research.google.com/assets/colab-badge.svg\" alt=\"Open In Colab\"/></a>"
   ]
  },
  {
   "cell_type": "markdown",
   "metadata": {
    "id": "H91Iz3PiAFEK"
   },
   "source": [
    "### Practice 1: Parallel GloVe\n",
    "\n",
    "In this assignment we'll build parallel GloVe training from scratch. Well, almost from scratch:\n",
    "* we'll use python's builtin [`multiprocessing`](https://docs.python.org/3/library/multiprocessing.html) library\n",
    "* and learn to access numpy arrays from multiple processes!\n",
    "\n",
    "![img](https://i.imgur.com/YHluIBo.png)"
   ]
  },
  {
   "cell_type": "code",
   "execution_count": 4,
   "metadata": {
    "id": "F9iWJGzIAFEO"
   },
   "outputs": [
    {
     "name": "stdout",
     "output_type": "stream",
     "text": [
      "env: MKL_NUM_THREADS=1\n",
      "env: NUMEXPR_NUM_THREADS=1\n",
      "env: OMP_NUM_THREADS=1\n",
      "Requirement already satisfied: nltk in /home/misha/.conda/envs/mlops-new/lib/python3.10/site-packages (3.7)\n",
      "Requirement already satisfied: datasets in /home/misha/.conda/envs/mlops-new/lib/python3.10/site-packages (2.3.2)\n",
      "Requirement already satisfied: tqdm in /home/misha/.conda/envs/mlops-new/lib/python3.10/site-packages (4.64.0)\n",
      "Requirement already satisfied: joblib in /home/misha/.conda/envs/mlops-new/lib/python3.10/site-packages (from nltk) (1.1.0)\n",
      "Requirement already satisfied: click in /home/misha/.conda/envs/mlops-new/lib/python3.10/site-packages (from nltk) (8.1.3)\n",
      "Requirement already satisfied: regex>=2021.8.3 in /home/misha/.conda/envs/mlops-new/lib/python3.10/site-packages (from nltk) (2022.7.9)\n",
      "Requirement already satisfied: dill<0.3.6 in /home/misha/.conda/envs/mlops-new/lib/python3.10/site-packages (from datasets) (0.3.5.1)\n",
      "Requirement already satisfied: aiohttp in /home/misha/.conda/envs/mlops-new/lib/python3.10/site-packages (from datasets) (3.8.1)\n",
      "Requirement already satisfied: responses<0.19 in /home/misha/.conda/envs/mlops-new/lib/python3.10/site-packages (from datasets) (0.18.0)\n",
      "Requirement already satisfied: packaging in /home/misha/.conda/envs/mlops-new/lib/python3.10/site-packages (from datasets) (21.3)\n",
      "Requirement already satisfied: requests>=2.19.0 in /home/misha/.conda/envs/mlops-new/lib/python3.10/site-packages (from datasets) (2.28.1)\n",
      "Requirement already satisfied: pandas in /home/misha/.conda/envs/mlops-new/lib/python3.10/site-packages (from datasets) (1.4.3)\n",
      "Requirement already satisfied: fsspec[http]>=2021.05.0 in /home/misha/.conda/envs/mlops-new/lib/python3.10/site-packages (from datasets) (2022.5.0)\n",
      "Requirement already satisfied: multiprocess in /home/misha/.conda/envs/mlops-new/lib/python3.10/site-packages (from datasets) (0.70.13)\n",
      "Requirement already satisfied: numpy>=1.17 in /home/misha/.conda/envs/mlops-new/lib/python3.10/site-packages (from datasets) (1.23.0)\n",
      "Requirement already satisfied: pyarrow>=6.0.0 in /home/misha/.conda/envs/mlops-new/lib/python3.10/site-packages (from datasets) (8.0.0)\n",
      "Requirement already satisfied: xxhash in /home/misha/.conda/envs/mlops-new/lib/python3.10/site-packages (from datasets) (3.0.0)\n",
      "Requirement already satisfied: huggingface-hub<1.0.0,>=0.1.0 in /home/misha/.conda/envs/mlops-new/lib/python3.10/site-packages (from datasets) (0.8.1)\n",
      "Requirement already satisfied: typing-extensions>=3.7.4.3 in /home/misha/.conda/envs/mlops-new/lib/python3.10/site-packages (from huggingface-hub<1.0.0,>=0.1.0->datasets) (4.3.0)\n",
      "Requirement already satisfied: pyyaml>=5.1 in /home/misha/.conda/envs/mlops-new/lib/python3.10/site-packages (from huggingface-hub<1.0.0,>=0.1.0->datasets) (5.4.1)\n",
      "Requirement already satisfied: filelock in /home/misha/.local/lib/python3.10/site-packages (from huggingface-hub<1.0.0,>=0.1.0->datasets) (3.7.1)\n",
      "Requirement already satisfied: pyparsing!=3.0.5,>=2.0.2 in /home/misha/.conda/envs/mlops-new/lib/python3.10/site-packages (from packaging->datasets) (3.0.9)\n",
      "Requirement already satisfied: certifi>=2017.4.17 in /home/misha/.conda/envs/mlops-new/lib/python3.10/site-packages (from requests>=2.19.0->datasets) (2022.6.15)\n",
      "Requirement already satisfied: urllib3<1.27,>=1.21.1 in /home/misha/.conda/envs/mlops-new/lib/python3.10/site-packages (from requests>=2.19.0->datasets) (1.26.9)\n",
      "Requirement already satisfied: charset-normalizer<3,>=2 in /home/misha/.conda/envs/mlops-new/lib/python3.10/site-packages (from requests>=2.19.0->datasets) (2.1.0)\n",
      "Requirement already satisfied: idna<4,>=2.5 in /home/misha/.conda/envs/mlops-new/lib/python3.10/site-packages (from requests>=2.19.0->datasets) (3.3)\n",
      "Requirement already satisfied: multidict<7.0,>=4.5 in /home/misha/.conda/envs/mlops-new/lib/python3.10/site-packages (from aiohttp->datasets) (6.0.2)\n",
      "Requirement already satisfied: attrs>=17.3.0 in /home/misha/.conda/envs/mlops-new/lib/python3.10/site-packages (from aiohttp->datasets) (21.4.0)\n",
      "Requirement already satisfied: aiosignal>=1.1.2 in /home/misha/.conda/envs/mlops-new/lib/python3.10/site-packages (from aiohttp->datasets) (1.2.0)\n",
      "Requirement already satisfied: frozenlist>=1.1.1 in /home/misha/.conda/envs/mlops-new/lib/python3.10/site-packages (from aiohttp->datasets) (1.3.0)\n",
      "Requirement already satisfied: yarl<2.0,>=1.0 in /home/misha/.conda/envs/mlops-new/lib/python3.10/site-packages (from aiohttp->datasets) (1.7.2)\n",
      "Requirement already satisfied: async-timeout<5.0,>=4.0.0a3 in /home/misha/.conda/envs/mlops-new/lib/python3.10/site-packages (from aiohttp->datasets) (4.0.2)\n",
      "Requirement already satisfied: python-dateutil>=2.8.1 in /home/misha/.conda/envs/mlops-new/lib/python3.10/site-packages (from pandas->datasets) (2.8.2)\n",
      "Requirement already satisfied: pytz>=2020.1 in /home/misha/.conda/envs/mlops-new/lib/python3.10/site-packages (from pandas->datasets) (2022.1)\n",
      "Requirement already satisfied: six>=1.5 in /home/misha/.conda/envs/mlops-new/lib/python3.10/site-packages (from python-dateutil>=2.8.1->pandas->datasets) (1.16.0)\n",
      "--2022-07-16 05:45:33--  https://raw.githubusercontent.com/mryab/efficient-dl-systems/main/week02_distributed/utils.py\n",
      "Resolving raw.githubusercontent.com (raw.githubusercontent.com)... 185.199.108.133, 185.199.111.133, 185.199.109.133, ...\n",
      "Connecting to raw.githubusercontent.com (raw.githubusercontent.com)|185.199.108.133|:443... connected.\n",
      "HTTP request sent, awaiting response... 200 OK\n",
      "Length: 1071 (1.0K) [text/plain]\n",
      "Saving to: ‘utils.py’\n",
      "\n",
      "utils.py            100%[===================>]   1.05K  --.-KB/s    in 0s      \n",
      "\n",
      "2022-07-16 05:45:33 (5.60 MB/s) - ‘utils.py’ saved [1071/1071]\n",
      "\n"
     ]
    }
   ],
   "source": [
    "%env MKL_NUM_THREADS=1\n",
    "%env NUMEXPR_NUM_THREADS=1\n",
    "%env OMP_NUM_THREADS=1\n",
    "# set numpy to single-threaded mode for benchmarking\n",
    "\n",
    "!pip install --upgrade nltk datasets tqdm\n",
    "!wget https://raw.githubusercontent.com/mryab/efficient-dl-systems/main/week02_distributed/utils.py -O utils.py\n",
    "\n",
    "import time, random\n",
    "import multiprocessing as mp\n",
    "import numpy as np\n",
    "from tqdm import tqdm, trange\n",
    "from IPython.display import clear_output\n",
    "import matplotlib.pyplot as plt\n",
    "%matplotlib inline\n"
   ]
  },
  {
   "cell_type": "code",
   "execution_count": 5,
   "metadata": {},
   "outputs": [
    {
     "name": "stdout",
     "output_type": "stream",
     "text": [
      "Sat Jul 16 05:45:39 2022       \n",
      "+-----------------------------------------------------------------------------+\n",
      "| NVIDIA-SMI 510.68.02    Driver Version: 510.68.02    CUDA Version: 11.6     |\n",
      "|-------------------------------+----------------------+----------------------+\n",
      "| GPU  Name        Persistence-M| Bus-Id        Disp.A | Volatile Uncorr. ECC |\n",
      "| Fan  Temp  Perf  Pwr:Usage/Cap|         Memory-Usage | GPU-Util  Compute M. |\n",
      "|                               |                      |               MIG M. |\n",
      "|===============================+======================+======================|\n",
      "|   0  NVIDIA GeForce ...  Off  | 00000000:01:00.0 Off |                  N/A |\n",
      "| 26%   33C    P8    13W / 215W |    178MiB /  8192MiB |      0%      Default |\n",
      "|                               |                      |                  N/A |\n",
      "+-------------------------------+----------------------+----------------------+\n",
      "                                                                               \n",
      "+-----------------------------------------------------------------------------+\n",
      "| Processes:                                                                  |\n",
      "|  GPU   GI   CI        PID   Type   Process name                  GPU Memory |\n",
      "|        ID   ID                                                   Usage      |\n",
      "|=============================================================================|\n",
      "|    0   N/A  N/A      1407      G   /usr/libexec/Xorg                 167MiB |\n",
      "|    0   N/A  N/A      1489      G   /usr/bin/gnome-shell                9MiB |\n",
      "+-----------------------------------------------------------------------------+\n"
     ]
    }
   ],
   "source": [
    "!nvidia-smi"
   ]
  },
  {
   "cell_type": "code",
   "execution_count": 6,
   "metadata": {},
   "outputs": [
    {
     "name": "stdout",
     "output_type": "stream",
     "text": [
      "Architecture:            x86_64\n",
      "  CPU op-mode(s):        32-bit, 64-bit\n",
      "  Address sizes:         39 bits physical, 48 bits virtual\n",
      "  Byte Order:            Little Endian\n",
      "CPU(s):                  8\n",
      "  On-line CPU(s) list:   0-7\n",
      "Vendor ID:               GenuineIntel\n",
      "  Model name:            Intel(R) Core(TM) i7-9700K CPU @ 3.60GHz\n",
      "    CPU family:          6\n",
      "    Model:               158\n",
      "    Thread(s) per core:  1\n",
      "    Core(s) per socket:  8\n",
      "    Socket(s):           1\n",
      "    Stepping:            12\n",
      "    CPU(s) scaling MHz:  72%\n",
      "    CPU max MHz:         4900.0000\n",
      "    CPU min MHz:         800.0000\n",
      "    BogoMIPS:            7200.00\n",
      "    Flags:               fpu vme de pse tsc msr pae mce cx8 apic sep mtrr pge mc\n",
      "                         a cmov pat pse36 clflush dts acpi mmx fxsr sse sse2 ss \n",
      "                         ht tm pbe syscall nx pdpe1gb rdtscp lm constant_tsc art\n",
      "                          arch_perfmon pebs bts rep_good nopl xtopology nonstop_\n",
      "                         tsc cpuid aperfmperf pni pclmulqdq dtes64 monitor ds_cp\n",
      "                         l vmx smx est tm2 ssse3 sdbg fma cx16 xtpr pdcm pcid ss\n",
      "                         e4_1 sse4_2 x2apic movbe popcnt tsc_deadline_timer aes \n",
      "                         xsave avx f16c rdrand lahf_lm abm 3dnowprefetch cpuid_f\n",
      "                         ault epb invpcid_single ssbd ibrs ibpb stibp tpr_shadow\n",
      "                          vnmi flexpriority ept vpid ept_ad fsgsbase tsc_adjust \n",
      "                         bmi1 avx2 smep bmi2 erms invpcid mpx rdseed adx smap cl\n",
      "                         flushopt intel_pt xsaveopt xsavec xgetbv1 xsaves dtherm\n",
      "                          ida arat pln pts hwp hwp_notify hwp_act_window hwp_epp\n",
      "                          md_clear flush_l1d arch_capabilities\n",
      "Virtualization features: \n",
      "  Virtualization:        VT-x\n",
      "Caches (sum of all):     \n",
      "  L1d:                   256 KiB (8 instances)\n",
      "  L1i:                   256 KiB (8 instances)\n",
      "  L2:                    2 MiB (8 instances)\n",
      "  L3:                    12 MiB (1 instance)\n",
      "NUMA:                    \n",
      "  NUMA node(s):          1\n",
      "  NUMA node0 CPU(s):     0-7\n",
      "Vulnerabilities:         \n",
      "  Itlb multihit:         KVM: Mitigation: VMX disabled\n",
      "  L1tf:                  Not affected\n",
      "  Mds:                   Mitigation; Clear CPU buffers; SMT disabled\n",
      "  Meltdown:              Not affected\n",
      "  Mmio stale data:       Mitigation; Clear CPU buffers; SMT disabled\n",
      "  Spec store bypass:     Mitigation; Speculative Store Bypass disabled via prctl\n",
      "  Spectre v1:            Mitigation; usercopy/swapgs barriers and __user pointer\n",
      "                          sanitization\n",
      "  Spectre v2:            Mitigation; Retpolines, IBPB conditional, IBRS_FW, STIB\n",
      "                         P disabled, RSB filling\n",
      "  Srbds:                 Mitigation; Microcode\n",
      "  Tsx async abort:       Mitigation; TSX disabled\n"
     ]
    }
   ],
   "source": [
    "!lscpu"
   ]
  },
  {
   "cell_type": "markdown",
   "metadata": {
    "id": "qVojuqhGAFES"
   },
   "source": [
    "### Multiprocessing basics"
   ]
  },
  {
   "cell_type": "code",
   "execution_count": 7,
   "metadata": {
    "id": "cr6HV2PjAFEU"
   },
   "outputs": [],
   "source": [
    "def foo(i):\n",
    "    \"\"\" Imagine particularly computation-heavy function... \"\"\"\n",
    "    print(end=f\"Began foo({i})...\\n\")\n",
    "    result = np.sin(i)\n",
    "    time.sleep(abs(result))\n",
    "    print(end=f\"Finished foo({i}) = {result:.3f}.\\n\")\n",
    "    return result"
   ]
  },
  {
   "cell_type": "code",
   "execution_count": 8,
   "metadata": {
    "id": "hOOPAmDdAFEW"
   },
   "outputs": [
    {
     "name": "stdout",
     "output_type": "stream",
     "text": [
      "Began foo(0)...\n",
      "Finished foo(0) = 0.000.\n",
      "Began foo(1)...\n",
      "Finished foo(1) = 0.841.\n",
      "Began foo(2)...\n",
      "Finished foo(2) = 0.909.\n",
      "Began foo(3)...\n",
      "Finished foo(3) = 0.141.\n",
      "Began foo(4)...\n",
      "Finished foo(4) = -0.757.\n",
      "Began foo(5)...\n",
      "Finished foo(5) = -0.959.\n",
      "Began foo(6)...\n",
      "Finished foo(6) = -0.279.\n",
      "Began foo(7)...\n",
      "Finished foo(7) = 0.657.\n",
      "Began foo(8)...\n",
      "Finished foo(8) = 0.989.\n",
      "Began foo(9)...\n",
      "Finished foo(9) = 0.412.\n",
      "CPU times: user 12.9 ms, sys: 6.19 ms, total: 19.1 ms\n",
      "Wall time: 5.95 s\n"
     ]
    }
   ],
   "source": [
    "%%time\n",
    "results_naive = [foo(i) for i in range(10)]"
   ]
  },
  {
   "cell_type": "markdown",
   "metadata": {
    "id": "EzBc-wA2AFEX"
   },
   "source": [
    "Same, but with multiple processes"
   ]
  },
  {
   "cell_type": "code",
   "execution_count": 9,
   "metadata": {
    "id": "TQPXLqdlAFEY"
   },
   "outputs": [
    {
     "name": "stdout",
     "output_type": "stream",
     "text": [
      "Created 10 processes!\n",
      "Began foo(0)...\n",
      "Finished foo(0) = 0.000.\n",
      "Began foo(1)...\n",
      "Began foo(2)...\n",
      "Began foo(3)...\n",
      "Began foo(4)...\n",
      "Began foo(5)...\n",
      "Began foo(6)...\n",
      "Began foo(7)...\n",
      "Began foo(8)...\n",
      "Began foo(9)...\n",
      "Finished foo(3) = 0.141.\n",
      "Finished foo(6) = -0.279.\n",
      "Finished foo(9) = 0.412.\n",
      "Finished foo(7) = 0.657.\n",
      "Finished foo(4) = -0.757.\n",
      "Finished foo(1) = 0.841.\n",
      "Finished foo(2) = 0.909.\n",
      "Finished foo(5) = -0.959.\n",
      "Finished foo(8) = 0.989.\n",
      "CPU times: user 20.4 ms, sys: 28.2 ms, total: 48.6 ms\n",
      "Wall time: 1.02 s\n"
     ]
    }
   ],
   "source": [
    "%%time\n",
    "processes = []\n",
    "for i in range(10):\n",
    "    proc = mp.Process(target=foo, args=[i])\n",
    "    processes.append(proc)\n",
    "\n",
    "print(f\"Created {len(processes)} processes!\")\n",
    "\n",
    "# start in parallel\n",
    "for proc in processes:\n",
    "    proc.start()\n",
    "    \n",
    "# wait for everyone finish\n",
    "for proc in processes:\n",
    "    proc.join()  # wait until proc terminates"
   ]
  },
  {
   "cell_type": "markdown",
   "metadata": {
    "id": "z-e91ez4AFEZ"
   },
   "source": [
    "```\n",
    "\n",
    "```\n",
    "\n",
    "```\n",
    "\n",
    "```\n",
    "\n",
    "```\n",
    "\n",
    "```\n",
    "\n",
    "```\n",
    "\n",
    "```\n",
    "\n",
    "```\n",
    "\n",
    "```\n",
    "\n",
    "```\n",
    "\n",
    "```\n",
    "\n",
    "```\n",
    "\n",
    "```\n",
    "\n",
    "```\n",
    "\n",
    "```\n",
    "\n",
    "```\n",
    "\n",
    "```\n",
    "\n",
    "```\n",
    "\n",
    "```\n",
    "\n",
    "Great! But how do we collect the values?"
   ]
  },
  {
   "cell_type": "markdown",
   "metadata": {
    "id": "oJCsKVJsAFEb"
   },
   "source": [
    "__Solution 1:__ with pipes!\n",
    "\n",
    "Two \"sides\", __one__ process from each side\n",
    "* `pipe_side.send(data)` - throw data into the pipe (do not wait for it to be read)\n",
    "* `data = pipe_side.recv()` - read data. If there is none, wait for someone to send data\n",
    "\n",
    "__Rules:__\n",
    "* each side should be controlled by __one__ process\n",
    "* data transferred through pipes must be serializable\n",
    "* if `duplex=True`, processes can communicate both ways\n",
    "* if `duplex=False`, \"left\" receives and \"right\" side sends"
   ]
  },
  {
   "cell_type": "code",
   "execution_count": 10,
   "metadata": {
    "id": "lRI8OvzwAFEd"
   },
   "outputs": [
    {
     "name": "stdout",
     "output_type": "stream",
     "text": [
      "side_B.recv() ->  123\n",
      "side_B.recv() ->  {'ololo': array([-0.46758777,  0.96857925,  0.28746328])}\n"
     ]
    }
   ],
   "source": [
    "side_A, side_B = mp.Pipe()\n",
    "\n",
    "side_A.send(123)\n",
    "side_A.send({'ololo': np.random.randn(3)})\n",
    "\n",
    "print(\"side_B.recv() -> \", side_B.recv())\n",
    "print(\"side_B.recv() -> \", side_B.recv())\n",
    "\n",
    "# note: calling recv a third will hang the process (waiting for someone to send data)"
   ]
  },
  {
   "cell_type": "code",
   "execution_count": 11,
   "metadata": {
    "id": "KCKp1tq1AFEe"
   },
   "outputs": [],
   "source": [
    "def compute_and_send(i, output_pipe):\n",
    "    print(end=f\"Began compute_and_send({i})...\\n\")\n",
    "    result = np.sin(i)\n",
    "    time.sleep(abs(result))\n",
    "    print(end=f\"Finished compute_and_send({i}) = {result:.3f}.\\n\")\n",
    "    \n",
    "    output_pipe.send(result)"
   ]
  },
  {
   "cell_type": "code",
   "execution_count": 12,
   "metadata": {
    "id": "3j1mKkn5AFEe"
   },
   "outputs": [
    {
     "name": "stdout",
     "output_type": "stream",
     "text": [
      "Began compute_and_send(0)...\n",
      "Finished compute_and_send(0) = 0.000.\n",
      "Began compute_and_send(1)...\n",
      "Began compute_and_send(2)...\n",
      "Began compute_and_send(3)...\n",
      "Began compute_and_send(4)...\n",
      "Began compute_and_send(5)...\n",
      "Began compute_and_send(6)...\n",
      "Began compute_and_send(7)...\n",
      "Began compute_and_send(8)...\n",
      "Began compute_and_send(9)...\n",
      "Finished compute_and_send(3) = 0.141.\n",
      "MAIN PROCESS: awaiting results...\n",
      "MAIN_PROCESS: received 0.0\n",
      "Finished compute_and_send(6) = -0.279.\n",
      "Finished compute_and_send(9) = 0.412.\n",
      "Finished compute_and_send(7) = 0.657.\n",
      "Finished compute_and_send(4) = -0.757.\n",
      "Finished compute_and_send(1) = 0.841.\n",
      "Finished compute_and_send(2) = 0.909.\n",
      "Finished compute_and_send(5) = -0.959.\n",
      "Finished compute_and_send(8) = 0.989.\n",
      "MAIN_PROCESS: received 0.8414709848078965\n",
      "MAIN_PROCESS: received 0.9092974268256817\n",
      "MAIN_PROCESS: received 0.1411200080598672\n",
      "MAIN_PROCESS: received -0.7568024953079282\n",
      "MAIN_PROCESS: received -0.9589242746631385\n",
      "MAIN_PROCESS: received -0.27941549819892586\n",
      "MAIN_PROCESS: received 0.6569865987187891\n",
      "MAIN_PROCESS: received 0.9893582466233818\n",
      "MAIN_PROCESS: received 0.4121184852417566\n",
      "MAIN PROCESS: done!\n",
      "CPU times: user 28.3 ms, sys: 25 ms, total: 53.3 ms\n",
      "Wall time: 1.02 s\n"
     ]
    }
   ],
   "source": [
    "%%time\n",
    "result_pipes = []\n",
    "\n",
    "for i in range(10):\n",
    "    \n",
    "    side_A, side_B = mp.Pipe(duplex=False)\n",
    "    # note: duplex=False means that side_B can only send\n",
    "    # and side_A can only recv. Otherwise its bidirectional\n",
    "    result_pipes.append(side_A)\n",
    "    proc = mp.Process(target=compute_and_send, args=[i, side_B])\n",
    "    proc.start()\n",
    "\n",
    "print(\"MAIN PROCESS: awaiting results...\")\n",
    "for pipe in result_pipes:\n",
    "    print(f\"MAIN_PROCESS: received {pipe.recv()}\")\n",
    "print(\"MAIN PROCESS: done!\")"
   ]
  },
  {
   "cell_type": "markdown",
   "metadata": {
    "id": "woOzj-h9AFEf"
   },
   "source": [
    "__Solution 2:__ with multiprocessing templates\n",
    "\n",
    "Multiprocessing contains some template data structures that help you communicate between processes.\n",
    "\n",
    "One such structure is `mp.Queue` a Queue that can be accessed by multiple processes in parallel.\n",
    "* `queue.put` adds the value to the queue, accessible by all other processes\n",
    "* `queue.get` returns the earliest added value and removes it from queue"
   ]
  },
  {
   "cell_type": "code",
   "execution_count": 13,
   "metadata": {
    "id": "P8mPT8uvAFEg"
   },
   "outputs": [
    {
     "name": "stdout",
     "output_type": "stream",
     "text": [
      "A: awaiting queue...\n"
     ]
    }
   ],
   "source": [
    "queue = mp.Queue()\n",
    "\n",
    "def func_A(queue):\n",
    "    print(\"A: awaiting queue...\")\n",
    "    print(\"A: retreived from queue:\", queue.get())\n",
    "    print(\"A: awaiting queue...\")\n",
    "    print(\"A: retreived from queue:\", queue.get())\n",
    "    print(\"A: done!\")\n",
    "\n",
    "def func_B(i, queue):\n",
    "    np.random.seed(i)\n",
    "    value = np.random.rand()\n",
    "    time.sleep(value)\n",
    "    print(f\"proc_B{i}: putting more stuff into queue!\")\n",
    "    queue.put(value)\n",
    "    \n",
    "\n",
    "proc_A = mp.Process(target=func_A, args=[queue])\n",
    "proc_A.start();\n",
    "\n",
    "proc_B1 = mp.Process(target=func_B, args=[1, queue])\n",
    "proc_B2 = mp.Process(target=func_B, args=[2, queue])\n",
    "proc_B1.start(), proc_B2.start();"
   ]
  },
  {
   "cell_type": "markdown",
   "metadata": {
    "id": "d-rzgIRPAFEh"
   },
   "source": [
    "__Important note:__ you can see that the two values above are identical.\n",
    "\n",
    "This is because proc_B1 and proc_B2 were forked (cloned) with __the same random state!__\n",
    "\n",
    "To mitigate this issue, run `np.random.seed()` in each process (same for torch, tensorflow).\n",
    "\n",
    "<details>\n",
    "    <summary>In fact, please go and to that <b>right now!</b></summary>\n",
    "    <img src='https://media.tenor.com/images/32c950f36a61ec7e5060f5eee9140396/tenor.gif' height=200px>\n",
    "</details>\n",
    "\n",
    "```\n",
    "\n",
    "```\n",
    "\n",
    "__Less important note:__ `mp.Queue vs mp.Pipe`\n",
    "- pipes are much faster for 1v1 communication\n",
    "- queues support arbitrary number of processes\n",
    "- queues are implemented with pipes"
   ]
  },
  {
   "cell_type": "markdown",
   "metadata": {
    "id": "XHck3-qUAFEi"
   },
   "source": [
    "### GloVe preprocessing\n",
    "\n",
    "Before we can train GloVe, we must first construct the co-occurence"
   ]
  },
  {
   "cell_type": "code",
   "execution_count": 14,
   "metadata": {
    "id": "qNC7L4avAFEj"
   },
   "outputs": [
    {
     "data": {
      "application/vnd.jupyter.widget-view+json": {
       "model_id": "2578a3f916974c8abf9f29575097089b",
       "version_major": 2,
       "version_minor": 0
      },
      "text/plain": [
       "Downloading builder script:   0%|          | 0.00/2.03k [00:00<?, ?B/s]"
      ]
     },
     "metadata": {},
     "output_type": "display_data"
    },
    {
     "data": {
      "application/vnd.jupyter.widget-view+json": {
       "model_id": "61efef2a79ff416c91dd5026ef6f0667",
       "version_major": 2,
       "version_minor": 0
      },
      "text/plain": [
       "Downloading metadata:   0%|          | 0.00/1.25k [00:00<?, ?B/s]"
      ]
     },
     "metadata": {},
     "output_type": "display_data"
    },
    {
     "name": "stdout",
     "output_type": "stream",
     "text": [
      "Downloading and preparing dataset wikitext/wikitext-103-raw-v1 (download: 183.09 MiB, generated: 523.53 MiB, post-processed: Unknown size, total: 706.63 MiB) to /home/misha/.cache/huggingface/datasets/wikitext/wikitext-103-raw-v1/1.0.0/a241db52902eaf2c6aa732210bead40c090019a499ceb13bcbfa3f8ab646a126...\n"
     ]
    },
    {
     "data": {
      "application/vnd.jupyter.widget-view+json": {
       "model_id": "176aeacf0ed9471b9da26c555e2dbd22",
       "version_major": 2,
       "version_minor": 0
      },
      "text/plain": [
       "Downloading data:   0%|          | 0.00/192M [00:00<?, ?B/s]"
      ]
     },
     "metadata": {},
     "output_type": "display_data"
    },
    {
     "data": {
      "application/vnd.jupyter.widget-view+json": {
       "model_id": "5f0b0b8494e04565b96e292dc0af71a1",
       "version_major": 2,
       "version_minor": 0
      },
      "text/plain": [
       "Generating test split:   0%|          | 0/4358 [00:00<?, ? examples/s]"
      ]
     },
     "metadata": {},
     "output_type": "display_data"
    },
    {
     "data": {
      "application/vnd.jupyter.widget-view+json": {
       "model_id": "adfe8ed56cd04665ab49e1ac746966ad",
       "version_major": 2,
       "version_minor": 0
      },
      "text/plain": [
       "Generating train split:   0%|          | 0/1801350 [00:00<?, ? examples/s]"
      ]
     },
     "metadata": {},
     "output_type": "display_data"
    },
    {
     "data": {
      "application/vnd.jupyter.widget-view+json": {
       "model_id": "6a29dcd790584a19a5216de68912b1cf",
       "version_major": 2,
       "version_minor": 0
      },
      "text/plain": [
       "Generating validation split:   0%|          | 0/3760 [00:00<?, ? examples/s]"
      ]
     },
     "metadata": {},
     "output_type": "display_data"
    },
    {
     "name": "stdout",
     "output_type": "stream",
     "text": [
      "Dataset wikitext downloaded and prepared to /home/misha/.cache/huggingface/datasets/wikitext/wikitext-103-raw-v1/1.0.0/a241db52902eaf2c6aa732210bead40c090019a499ceb13bcbfa3f8ab646a126. Subsequent calls will reuse this data.\n"
     ]
    },
    {
     "data": {
      "application/vnd.jupyter.widget-view+json": {
       "model_id": "12e3b00364284339b4746ae0ceb01a27",
       "version_major": 2,
       "version_minor": 0
      },
      "text/plain": [
       "  0%|          | 0/3 [00:00<?, ?it/s]"
      ]
     },
     "metadata": {},
     "output_type": "display_data"
    },
    {
     "name": "stdout",
     "output_type": "stream",
     "text": [
      "Example:  It met with positive sales in Japan , and was praised by both Japanese and western critics . After release , it received downloadable content , along with an expanded edition in November of that year . It was also adapted into manga and an original video animation series . Due to low sales of Valkyria Chronicles II , Valkyria Chronicles III was not localized , but a fan translation compatible with the game 's expanded edition was released in 2014 . Media.Vision would return to the franchise with the development of Valkyria : Azure Revolution for the PlayStation 4 . \n",
      "\n"
     ]
    }
   ],
   "source": [
    "import datasets\n",
    "data = datasets.load_dataset('wikitext', 'wikitext-103-raw-v1')\n",
    "# for fast debugging, you can temporarily use smaller data: 'wikitext-2-raw-v1'\n",
    "\n",
    "print(\"Example:\", data['train']['text'][5])"
   ]
  },
  {
   "cell_type": "markdown",
   "metadata": {
    "id": "ctIVLlsaAFEk"
   },
   "source": [
    "__First,__ let's build a vocabulary:"
   ]
  },
  {
   "cell_type": "code",
   "execution_count": 15,
   "metadata": {
    "id": "-3LTURX-AFEl"
   },
   "outputs": [
    {
     "data": {
      "text/plain": [
       "Counter({'the': 459,\n",
       "         ',': 349,\n",
       "         '.': 225,\n",
       "         'of': 193,\n",
       "         'to': 150,\n",
       "         'and': 147,\n",
       "         'in': 104,\n",
       "         '@': 100,\n",
       "         'a': 93,\n",
       "         'was': 83})"
      ]
     },
     "execution_count": 15,
     "metadata": {},
     "output_type": "execute_result"
    }
   ],
   "source": [
    "from collections import Counter\n",
    "from nltk.tokenize import NLTKWordTokenizer\n",
    "tokenizer = NLTKWordTokenizer()\n",
    "\n",
    "def count_tokens(lines, top_k=None):\n",
    "    \"\"\" Tokenize lines and return top_k most frequent tokens and their counts \"\"\"\n",
    "    sent_tokens = tokenizer.tokenize_sents(map(str.lower, lines))\n",
    "    token_counts = Counter([token for sent in sent_tokens for token in sent])\n",
    "    return Counter(dict(token_counts.most_common(top_k)))\n",
    "\n",
    "count_tokens(data['train']['text'][:100], top_k=10)"
   ]
  },
  {
   "cell_type": "code",
   "execution_count": 16,
   "metadata": {
    "id": "YCyX3nruAFEm"
   },
   "outputs": [
    {
     "name": "stderr",
     "output_type": "stream",
     "text": [
      "100%|██████████| 10/10 [00:12<00:00,  1.29s/it]"
     ]
    },
    {
     "name": "stdout",
     "output_type": "stream",
     "text": [
      "Took 12.942974723002408 sec..\n"
     ]
    },
    {
     "name": "stderr",
     "output_type": "stream",
     "text": [
      "\n"
     ]
    }
   ],
   "source": [
    "# sequential algorithm\n",
    "from timeit import default_timer\n",
    "\n",
    "texts = data['train']['text'][:100_000]\n",
    "vocabulary_size = 32_000\n",
    "batch_size = 10_000\n",
    "\n",
    "token_counts = Counter()\n",
    "start = default_timer()\n",
    "for batch_start in trange(0, len(texts), batch_size):\n",
    "    batch_texts = texts[batch_start: batch_start + batch_size]\n",
    "    batch_counts = count_tokens(batch_texts, top_k=vocabulary_size)\n",
    "    token_counts += Counter(batch_counts)\n",
    "\n",
    "# save for later\n",
    "token_counts_reference = Counter(token_counts)\n",
    "\n",
    "end = default_timer()\n",
    "print(f'Took {end - start} sec..')"
   ]
  },
  {
   "cell_type": "markdown",
   "metadata": {
    "id": "8nsYnwdFAFEo"
   },
   "source": [
    "### Let's parallelize (20% points)\n",
    "\n",
    "__Your task__ is to speed up the code above using using multiprocessing with queues and/or pipes _(or [shared memory](https://docs.python.org/3/library/multiprocessing.shared_memory.html) if you're up to that)_.\n",
    "\n",
    "__Kudos__ for implementing some form of global progress tracker (like progressbar above)\n",
    "\n",
    "Please do **not** use task executors (e.g. mp.pool, joblib, ProcessPoolExecutor), we'll get to them soon!"
   ]
  },
  {
   "cell_type": "code",
   "execution_count": 14,
   "metadata": {},
   "outputs": [],
   "source": [
    "# !lscpu"
   ]
  },
  {
   "cell_type": "code",
   "execution_count": 17,
   "metadata": {
    "id": "k4IporOCAFEo"
   },
   "outputs": [],
   "source": [
    "texts = data['train']['text'][:100_000]\n",
    "vocabulary_size = 32_000\n",
    "batch_size = 10_000\n",
    "\n",
    "def count_step(texts, slice_index, batch_size, output_pipe):\n",
    "    token_counts = Counter()\n",
    "\n",
    "    for batch_start in trange(slice_index[0], slice_index[1], batch_size):\n",
    "        batch_end = min(batch_start + batch_size, slice_index[1])\n",
    "        batch_texts = texts[batch_start: batch_end]\n",
    "        batch_counts = count_tokens(batch_texts, top_k=vocabulary_size)\n",
    "        token_counts += Counter(batch_counts)\n",
    "\n",
    "    output_pipe.send(token_counts)"
   ]
  },
  {
   "cell_type": "code",
   "execution_count": 18,
   "metadata": {},
   "outputs": [],
   "source": [
    "def straight_slice_indexes(slices_indexes, batch_size):\n",
    "    last_ix = slices_indexes[-1][-1]\n",
    "    for i in range(len(slices_indexes)):\n",
    "        for j in range(len(slices_indexes[i])):            \n",
    "            if slices_indexes[i][j] % batch_size != 0:\n",
    "                slices_indexes[i][j] = ((slices_indexes[i][j] // batch_size) + 1) * batch_size\n",
    "                \n",
    "    slices_indexes[-1][-1] = min(slices_indexes[-1][-1], last_ix)\n",
    "    return slices_indexes"
   ]
  },
  {
   "cell_type": "code",
   "execution_count": 19,
   "metadata": {},
   "outputs": [
    {
     "data": {
      "text/plain": [
       "[[0, 30], [30, 50], [50, 80], [80, 100]]"
      ]
     },
     "execution_count": 19,
     "metadata": {},
     "output_type": "execute_result"
    }
   ],
   "source": [
    "straight_slice_indexes([[0, 25], [25, 50], [50, 75], [75, 100]], 10)"
   ]
  },
  {
   "cell_type": "code",
   "execution_count": 20,
   "metadata": {},
   "outputs": [],
   "source": [
    "def compute_token_counts_parallel(texts, vocabulary_size, batch_size):\n",
    "    n_cpu = n_slices = mp.cpu_count()\n",
    "    slice_size = len(texts) // n_slices\n",
    "    slices_indexes = [[i * slice_size,(i + 1) * slice_size] for i in range(n_cpu)]\n",
    "    print('Prepared indexes:', slices_indexes)\n",
    "    slices_indexes = straight_slice_indexes(slices_indexes, batch_size)\n",
    "    print('Aligned indexes:', slices_indexes)\n",
    "\n",
    "    result_pipes = []\n",
    "    start = default_timer()\n",
    "    \n",
    "    for i in range(n_cpu):\n",
    "        side_A, side_B = mp.Pipe(duplex=False)\n",
    "        result_pipes.append(side_A)\n",
    "        proc_i = mp.Process(target=count_step, args=[texts, slices_indexes[i], batch_size, side_B])\n",
    "        proc_i.start()\n",
    "        # processes.append(proc_i)\n",
    "\n",
    "    result = Counter()\n",
    "    print(\"Awaiting pipe_results...\")\n",
    "\n",
    "    for pipe in result_pipes:\n",
    "        r = pipe.recv()\n",
    "        result += r\n",
    "    print(\"Finished waiting!\")\n",
    "\n",
    "    end = default_timer()\n",
    "    print(f'Took {end - start} sec..')\n",
    "    return result"
   ]
  },
  {
   "cell_type": "code",
   "execution_count": 21,
   "metadata": {},
   "outputs": [
    {
     "name": "stdout",
     "output_type": "stream",
     "text": [
      "Prepared indexes: [[0, 12500], [12500, 25000], [25000, 37500], [37500, 50000], [50000, 62500], [62500, 75000], [75000, 87500], [87500, 100000]]\n",
      "Aligned indexes: [[0, 20000], [20000, 30000], [30000, 40000], [40000, 50000], [50000, 70000], [70000, 80000], [80000, 90000], [90000, 100000]]\n"
     ]
    },
    {
     "name": "stderr",
     "output_type": "stream",
     "text": [
      "  0%|          | 0/1 [00:00<?, ?it/s]"
     ]
    },
    {
     "name": "stdout",
     "output_type": "stream",
     "text": [
      "Awaiting pipe_results...\n"
     ]
    },
    {
     "name": "stderr",
     "output_type": "stream",
     "text": [
      "100%|██████████| 1/1 [00:01<00:00,  1.35s/it]\n",
      "100%|██████████| 1/1 [00:01<00:00,  1.40s/it]\n",
      "100%|██████████| 1/1 [00:01<00:00,  1.40s/it]\n",
      "100%|██████████| 1/1 [00:01<00:00,  1.42s/it]\n",
      "100%|██████████| 1/1 [00:01<00:00,  1.44s/it]\n",
      "100%|██████████| 1/1 [00:01<00:00,  1.50s/it]\n",
      "100%|██████████| 2/2 [00:02<00:00,  1.39s/it]\n",
      "100%|██████████| 2/2 [00:02<00:00,  1.39s/it]\n"
     ]
    },
    {
     "name": "stdout",
     "output_type": "stream",
     "text": [
      "Finished waiting!\n",
      "Took 2.9382015580195002 sec..\n"
     ]
    }
   ],
   "source": [
    "texts = data['train']['text'][:100_000]\n",
    "vocabulary_size = 32_000\n",
    "batch_size = 10_000\n",
    "\n",
    "\n",
    "token_counts = compute_token_counts_parallel(texts, vocabulary_size, batch_size)\n",
    "token_counts = Counter(token_counts)"
   ]
  },
  {
   "cell_type": "code",
   "execution_count": 22,
   "metadata": {
    "id": "ygCy9JSKAFEo"
   },
   "outputs": [
    {
     "name": "stdout",
     "output_type": "stream",
     "text": [
      "Well done!\n"
     ]
    }
   ],
   "source": [
    "assert len(token_counts) == len(token_counts_reference)\n",
    "for token, ref_count in token_counts_reference.items():\n",
    "    assert token in token_counts, token\n",
    "    assert token_counts[token] == ref_count, token\n",
    "\n",
    "token_counts = Counter(dict(token_counts.most_common(vocabulary_size)))\n",
    "\n",
    "vocabulary = sorted(token_counts.keys())\n",
    "token_to_index = {token: i for i, token in enumerate(vocabulary)}\n",
    "assert len(vocabulary) == vocabulary_size, len(vocabulary)\n",
    "print(\"Well done!\")"
   ]
  },
  {
   "cell_type": "markdown",
   "metadata": {
    "id": "lgALuOgdAFEp"
   },
   "source": [
    "### Part 2: Construct co-occurence matrix (10% points)\n",
    "\n",
    "\n",
    "__Your task__ is to count co-occurences of all words in a 5-token window. Please use the same preprocessing and tokenizer as above.\n",
    "\n",
    "__Also:__ please only count words that are in the vocabulary defined above.\n",
    "\n",
    "![image.png](https://i.imgur.com/2XmhYn5.png)\n",
    "\n",
    "\n",
    "\n",
    "__Note:__ this task and everything below has no instructions/interfaces. We will design those interfaces __together on the seminar.__\n",
    "\n",
    "The detailed instructions will appear later this night after the seminar is over.\n",
    "However, if you want to write the code from scratch, feel free to ignore these instructions.\n"
   ]
  },
  {
   "cell_type": "code",
   "execution_count": 23,
   "metadata": {
    "id": "1N1acrkUAFEq"
   },
   "outputs": [],
   "source": [
    "import scipy\n",
    "\n",
    "def count_token_cooccurences(lines, vocabulary_size: int, window_size: int):\n",
    "    \"\"\" Tokenize lines and return top_k most frequent tokens and their counts \"\"\"\n",
    "    cooc = Counter()\n",
    "\n",
    "    for line in lines:\n",
    "        tokens = tokenizer.tokenize(line.lower())\n",
    "        token_ix = [token_to_index[token] for token in tokens\n",
    "                    if token in token_to_index]\n",
    "        \n",
    "        for i in range(len(token_ix)):\n",
    "            for j in range(max(i - window_size, 0),\n",
    "                           min(i + window_size + 1, len(token_ix))):\n",
    "                if i != j:\n",
    "                    cooc[token_ix[i], token_ix[j]] += 1 / abs(i - j)\n",
    "    return counter_to_matrix(cooc, vocabulary_size)\n",
    "\n",
    "def counter_to_matrix(counter, vocabulary_size):\n",
    "    keys, values = zip(*counter.items())\n",
    "    ii, jj = zip(*keys)\n",
    "    return scipy.sparse.csr_matrix((values, (ii, jj)), dtype='float32',\n",
    "                                   shape=(vocabulary_size, vocabulary_size))"
   ]
  },
  {
   "cell_type": "code",
   "execution_count": 24,
   "metadata": {
    "id": "QpvoJI4TAFEq"
   },
   "outputs": [
    {
     "name": "stderr",
     "output_type": "stream",
     "text": [
      "100%|██████████| 10/10 [01:01<00:00,  6.17s/it]"
     ]
    },
    {
     "name": "stdout",
     "output_type": "stream",
     "text": [
      "Took 63.04234870499931 sec...\n"
     ]
    },
    {
     "name": "stderr",
     "output_type": "stream",
     "text": [
      "\n"
     ]
    }
   ],
   "source": [
    "start = default_timer()\n",
    "texts = data['train']['text'][:100_000]\n",
    "batch_size = 10_000\n",
    "window_size = 5\n",
    "\n",
    "cooc = scipy.sparse.csr_matrix((vocabulary_size, vocabulary_size), dtype='float32')\n",
    "for batch_start in trange(0, len(texts), batch_size):\n",
    "    batch_texts = texts[batch_start: batch_start + batch_size]\n",
    "    batch_cooc = count_token_cooccurences(batch_texts, vocabulary_size, window_size)\n",
    "    cooc += batch_cooc\n",
    "    \n",
    "\n",
    "# This cell will run for a couple minutes, go get some tea!\n",
    "reference_cooc = cooc\n",
    "\n",
    "end = default_timer()\n",
    "print(f'Took {end - start} sec...')"
   ]
  },
  {
   "cell_type": "markdown",
   "metadata": {
    "id": "y-iwaVloAFEr"
   },
   "source": [
    "__Simple parallelism with `mp.Pool`__\n",
    "\n",
    "Many standard parallel tasks, such as applying the same function to an array of inputs, can be automated by using prebuilt primitives such as Pool."
   ]
  },
  {
   "cell_type": "code",
   "execution_count": 28,
   "metadata": {},
   "outputs": [],
   "source": [
    "def get_ref_cooc(texts, slice_index, batch_size, vocabulary_size, cooc):\n",
    "    texts = texts[slice_index[0]:slice_index[1]]\n",
    "    for batch_start in trange(0, len(texts), batch_size):\n",
    "        batch_texts = texts[batch_start: batch_start + batch_size]\n",
    "        batch_cooc = count_token_cooccurences(batch_texts, vocabulary_size, window_size)\n",
    "        cooc += batch_cooc\n",
    "    return cooc"
   ]
  },
  {
   "cell_type": "markdown",
   "metadata": {
    "id": "-45tfQN7AFEs"
   },
   "source": [
    "__Our next step__ is to implement a parallel version of co-occurence computation using the process pool functionality.\n",
    "\n",
    "There are multiple alternatives to mp.Pool: [joblib.Parallel](https://joblib.readthedocs.io/en/latest/), [ProcessPoolExecutor](https://docs.python.org/3/library/concurrent.futures.html#concurrent.futures.ProcessPoolExecutor), [ipyparallel](https://github.com/ipython/ipyparallel), etc. Feel free to use whichever one you prefer."
   ]
  },
  {
   "cell_type": "code",
   "execution_count": 29,
   "metadata": {
    "id": "mSp_OQzxAFEs",
    "scrolled": true
   },
   "outputs": [
    {
     "name": "stderr",
     "output_type": "stream",
     "text": [
      "100%|██████████| 2/2 [00:12<00:00,  6.42s/it]\n",
      "100%|██████████| 2/2 [00:13<00:00,  6.70s/it]\n",
      "100%|██████████| 2/2 [00:13<00:00,  6.67s/it]\n",
      "100%|██████████| 2/2 [00:13<00:00,  6.76s/it]\n",
      "100%|██████████| 2/2 [00:13<00:00,  6.98s/it]\n",
      "100%|██████████| 2/2 [00:14<00:00,  7.19s/it]\n",
      "100%|██████████| 2/2 [00:13<00:00,  6.96s/it]\n",
      "100%|██████████| 2/2 [00:13<00:00,  6.94s/it]\n"
     ]
    },
    {
     "name": "stdout",
     "output_type": "stream",
     "text": [
      "Took 16.58051970001543 sec...\n"
     ]
    }
   ],
   "source": [
    "from functools import reduce\n",
    "from operator import add\n",
    "\n",
    "start = default_timer()\n",
    "\n",
    "texts = data['train']['text'][:100_000]\n",
    "batch_size = 10_000\n",
    "window_size = 5\n",
    "n_cpu = n_slices = mp.cpu_count()\n",
    "slice_size = len(texts) // n_slices\n",
    "slices_indexes = [(i * slice_size,(i + 1) * slice_size) for i in range(n_cpu)]\n",
    "cooc = scipy.sparse.csr_matrix((vocabulary_size, vocabulary_size), dtype='float32')\n",
    "\n",
    "params = []\n",
    "for slice_index in slices_indexes:\n",
    "    param = (texts, slice_index, batch_size, vocabulary_size, cooc)\n",
    "    params.append(param)\n",
    "\n",
    "with mp.Pool(processes=n_cpu) as pool:\n",
    "    ll = pool.starmap(get_ref_cooc, params)\n",
    "    \n",
    "cooc = reduce(add, ll)\n",
    "end = default_timer()\n",
    "print(f'Took {end - start} sec...')"
   ]
  },
  {
   "cell_type": "code",
   "execution_count": 30,
   "metadata": {},
   "outputs": [
    {
     "name": "stderr",
     "output_type": "stream",
     "text": [
      "100%|██████████| 100000/100000 [00:07<00:00, 14148.64it/s]"
     ]
    },
    {
     "name": "stdout",
     "output_type": "stream",
     "text": [
      "Perfect!\n"
     ]
    },
    {
     "name": "stderr",
     "output_type": "stream",
     "text": [
      "\n"
     ]
    }
   ],
   "source": [
    "assert isinstance(cooc, scipy.sparse.csr_matrix)\n",
    "assert cooc.nnz == reference_cooc.nnz\n",
    "for _ in trange(100_000):\n",
    "    i, j = np.random.randint(0, vocabulary_size, size=2)\n",
    "    assert np.allclose(cooc[i, j], reference_cooc[i, j])\n",
    "\n",
    "print(\"Perfect!\")"
   ]
  },
  {
   "cell_type": "markdown",
   "metadata": {
    "id": "zanNUlMpAFEt"
   },
   "source": [
    "__Preprocess and save the full data__\n",
    "\n",
    "Finally, let's run the preprocessing code for the entire dataset and save the results for training."
   ]
  },
  {
   "cell_type": "code",
   "execution_count": 31,
   "metadata": {
    "id": "MQLkgNtUAFEt"
   },
   "outputs": [
    {
     "name": "stdout",
     "output_type": "stream",
     "text": [
      "Prepared indexes: [[0, 225168], [225168, 450336], [450336, 675504], [675504, 900672], [900672, 1125840], [1125840, 1351008], [1351008, 1576176], [1576176, 1801344]]\n",
      "Aligned indexes: [[0, 230000], [230000, 460000], [460000, 680000], [680000, 910000], [910000, 1130000], [1130000, 1360000], [1360000, 1580000], [1580000, 1801344]]\n"
     ]
    },
    {
     "name": "stderr",
     "output_type": "stream",
     "text": [
      "  0%|          | 0/23 [00:00<?, ?it/s]"
     ]
    },
    {
     "name": "stdout",
     "output_type": "stream",
     "text": [
      "Awaiting pipe_results...\n"
     ]
    },
    {
     "name": "stderr",
     "output_type": "stream",
     "text": [
      "100%|██████████| 22/22 [00:31<00:00,  1.41s/it]\n",
      "100%|██████████| 22/22 [00:31<00:00,  1.43s/it]\n",
      "100%|██████████| 23/23 [00:31<00:00,  1.38s/it]\n",
      "100%|██████████| 22/22 [00:31<00:00,  1.45s/it]\n",
      "100%|██████████| 23/23 [00:32<00:00,  1.41s/it]\n",
      "100%|██████████| 23/23 [00:32<00:00,  1.41s/it]\n",
      "100%|██████████| 23/23 [00:32<00:00,  1.43s/it]\n",
      "100%|██████████| 23/23 [00:32<00:00,  1.43s/it]\n"
     ]
    },
    {
     "name": "stdout",
     "output_type": "stream",
     "text": [
      "Finished waiting!\n",
      "Took 33.52596546703717 sec..\n"
     ]
    },
    {
     "name": "stderr",
     "output_type": "stream",
     "text": [
      "100%|██████████| 23/23 [04:18<00:00, 11.22s/it]\n",
      "100%|██████████| 23/23 [04:16<00:00, 11.16s/it]\n",
      "100%|██████████| 23/23 [04:22<00:00, 11.41s/it]\n",
      "100%|██████████| 23/23 [04:21<00:00, 11.38s/it]\n",
      "100%|██████████| 23/23 [04:19<00:00, 11.30s/it]\n",
      "100%|██████████| 23/23 [04:18<00:00, 11.23s/it]\n",
      "100%|██████████| 23/23 [04:20<00:00, 11.33s/it]\n",
      "100%|██████████| 23/23 [04:26<00:00, 11.57s/it]\n"
     ]
    }
   ],
   "source": [
    "texts = data['train']['text']\n",
    "vocabulary_size = 32_000\n",
    "batch_size = 10_000\n",
    "window_size = 5\n",
    "\n",
    "# YOUR CODE: compute both vocabulary and cooc on the entire training corpora and save the results\n",
    "\n",
    "token_counts = compute_token_counts_parallel(texts, vocabulary_size, batch_size)\n",
    "token_counts = Counter(token_counts)\n",
    "\n",
    "n_cpu = n_slices = mp.cpu_count()\n",
    "slice_size = len(texts) // n_slices\n",
    "slices_indexes = [(i * slice_size,(i + 1) * slice_size) for i in range(n_cpu)]\n",
    "cooc = scipy.sparse.csr_matrix((vocabulary_size, vocabulary_size), dtype='float32')\n",
    "\n",
    "params = []\n",
    "for slice_index in slices_indexes:\n",
    "    param = (texts, slice_index, batch_size, vocabulary_size, cooc)\n",
    "    params.append(param)\n",
    "\n",
    "with mp.Pool(processes=n_cpu) as pool:\n",
    "    ll = pool.starmap(get_ref_cooc, params)\n",
    "    \n",
    "cooc = reduce(add, ll)"
   ]
  },
  {
   "cell_type": "code",
   "execution_count": 32,
   "metadata": {
    "id": "CdxoorbBAFEu"
   },
   "outputs": [],
   "source": [
    "assert len(vocabulary) == vocabulary_size\n",
    "assert cooc.shape == (vocabulary_size, vocabulary_size)\n",
    "assert 440_000_000 < np.sum(cooc) < 450_000_000\n",
    "assert 0.05 < cooc.nnz / vocabulary_size ** 2 < 0.06"
   ]
  },
  {
   "cell_type": "code",
   "execution_count": 33,
   "metadata": {
    "id": "GZXhjIFJAFEu"
   },
   "outputs": [],
   "source": [
    "import pickle\n",
    "with open('preprocessed_data.pcl', 'wb') as f:\n",
    "    pickle.dump((vocabulary, cooc.tocoo()), f)"
   ]
  },
  {
   "cell_type": "markdown",
   "metadata": {
    "id": "2rN314cCAFEu"
   },
   "source": [
    "### Finally, GloVe!  (20% points)"
   ]
  },
  {
   "cell_type": "code",
   "execution_count": 34,
   "metadata": {
    "id": "vNLaUatnAFEu"
   },
   "outputs": [],
   "source": [
    "import pickle\n",
    "with open('preprocessed_data.pcl', 'rb') as f:\n",
    "    vocabulary, cooc = pickle.load(f)"
   ]
  },
  {
   "cell_type": "markdown",
   "metadata": {
    "id": "1e401y6JAFEu"
   },
   "source": [
    "### Weight function\n",
    "![image.png](https://i.imgur.com/Cdu6BJ5.png)"
   ]
  },
  {
   "cell_type": "code",
   "execution_count": 35,
   "metadata": {
    "id": "-O7lIzauAFEw"
   },
   "outputs": [],
   "source": [
    "def compute_loss_weights(counts_ij):\n",
    "    \"\"\" Compute GloVe weights \"\"\"\n",
    "    x_max = 100\n",
    "    alpha = 0.75\n",
    "    return [(x / x_max)**alpha if x < x_max else 1 for x in counts_ij]"
   ]
  },
  {
   "cell_type": "code",
   "execution_count": 36,
   "metadata": {
    "id": "OTya47l8AFEw"
   },
   "outputs": [],
   "source": [
    "dummy_weights = compute_loss_weights(np.arange(0, 200, 30))\n",
    "dummy_reference_weights = [0. , 0.40536, 0.681731, 0.92402, 1. , 1. , 1.]\n",
    "assert np.allclose(dummy_weights, dummy_reference_weights, rtol=1e-4, atol=1e-3)"
   ]
  },
  {
   "cell_type": "markdown",
   "metadata": {
    "id": "E4a6DJqjAFEw"
   },
   "source": [
    "### Loss function\n",
    "\n",
    "![img](https://i.imgur.com/bkEBBLk.png)\n",
    "\n",
    "\n",
    "__The goal__ is to compute the loss function as per formula above. The only difference is that you should take _mean_ over batch instead of sum."
   ]
  },
  {
   "cell_type": "code",
   "execution_count": 37,
   "metadata": {
    "id": "bempH2-4AFEw"
   },
   "outputs": [],
   "source": [
    "def compute_loss(emb_ii, emb_jj, bias_ii, bias_jj, counts_ij):\n",
    "    \"\"\"\n",
    "    Compute GloVe loss function given embeddings, biases and targets\n",
    "    \n",
    "    :param emb_ii, emb_jj: vectors of left- and right-side words, shape: [batch_size, embedding_dimension]\n",
    "    :param bias_ii, bias_jj: biases for left- and right-side words, shape: [batch_size]\n",
    "    :param counts_ij: values from co-occurence matrix, shape: [batch_size]\n",
    "    :returns: mean GloVe loss over batch, shape: scalar\n",
    "    \"\"\"\n",
    "    weights = compute_loss_weights(counts_ij)\n",
    "    target = np.log(counts_ij)\n",
    "    loss = weights * (np.sum(emb_ii * emb_jj, axis=1) + bias_ii + bias_jj - target)**2\n",
    "    return np.mean(loss)\n"
   ]
  },
  {
   "cell_type": "code",
   "execution_count": 38,
   "metadata": {
    "id": "IFO8TyMkAFEx"
   },
   "outputs": [],
   "source": [
    "dummy_emb_ii = np.sin(np.linspace(0, 10, 40)).reshape(4, 10)\n",
    "dummy_emb_jj = np.cos(np.linspace(10, 20, 40)).reshape(4, 10)\n",
    "dummy_bias_ii = np.linspace(-3, 2, 4)\n",
    "dummy_bias_jj = np.linspace(4, -1, 4)\n",
    "dummy_counts_ij = np.abs(np.sin(np.linspace(1, 100, 4)) * 150)\n",
    "\n",
    "dummy_loss = compute_loss(dummy_emb_ii, dummy_emb_jj, dummy_bias_ii, dummy_bias_jj, dummy_counts_ij)\n",
    "assert np.shape(dummy_loss) == ()\n",
    "assert np.allclose(dummy_loss, 1.84289356)"
   ]
  },
  {
   "cell_type": "code",
   "execution_count": 39,
   "metadata": {
    "id": "c81syAvPAFEx"
   },
   "outputs": [],
   "source": [
    "def compute_grads(emb_ii, emb_jj, bias_ii, bias_jj, counts_ij):\n",
    "    \"\"\"\n",
    "    Compute gradients of GloVe loss with respect to emb_ii/jj and bias_ii/jj\n",
    "    Assume the same parameter shapes as above\n",
    "    :returns: (grad_wrt_emb_ii, grad_wrt_emb_jj, grad_wrt_bias_ii, grad_wrt_bias_jj)\n",
    "    \"\"\"\n",
    "    weights = np.array(compute_loss_weights(counts_ij))\n",
    "    target = np.log(counts_ij)\n",
    "    common = weights * (np.sum(emb_ii * emb_jj, axis=1) + bias_ii + bias_jj - target) * 2 \n",
    "    grad_wrt_bias_ii = grad_wrt_bias_jj = common\n",
    "        \n",
    "    grad_wrt_emb_jj = common.reshape(-1, 1) * emb_ii\n",
    "    grad_wrt_emb_ii = common.reshape(-1, 1) * emb_jj\n",
    "    \n",
    "    # correction by division N:\n",
    "    ls = [grad_wrt_emb_ii, grad_wrt_emb_jj, grad_wrt_bias_ii, grad_wrt_bias_jj]\n",
    "    for i in range(len(ls)):\n",
    "        ls[i] = ls[i] / ls[i].shape[0]\n",
    "    \n",
    "    return ls"
   ]
  },
  {
   "cell_type": "code",
   "execution_count": 40,
   "metadata": {
    "id": "WMKNKChwAFEx"
   },
   "outputs": [],
   "source": [
    "grad_emb_ii, grad_emb_jj, grad_bias_ii, grad_bias_jj = compute_grads(\n",
    "    dummy_emb_ii, dummy_emb_jj, dummy_bias_ii, dummy_bias_jj, dummy_counts_ij)\n",
    "\n",
    "assert np.shape(grad_emb_ii) == np.shape(grad_emb_jj) == np.shape(dummy_emb_ii)\n",
    "assert np.shape(grad_bias_ii) == np.shape(grad_bias_jj) == np.shape(dummy_bias_ii)"
   ]
  },
  {
   "cell_type": "code",
   "execution_count": 41,
   "metadata": {
    "id": "LBrXg99RAFEy"
   },
   "outputs": [
    {
     "name": "stdout",
     "output_type": "stream",
     "text": [
      "dL/db[ii] OK\n",
      "dL/db[jj] OK\n"
     ]
    }
   ],
   "source": [
    "from utils import eval_numerical_gradient\n",
    "reference_grad_bias_ii = eval_numerical_gradient(\n",
    "    lambda x: compute_loss(dummy_emb_ii, dummy_emb_jj, x, dummy_bias_jj, dummy_counts_ij),\n",
    "    x=dummy_bias_ii)\n",
    "\n",
    "assert np.allclose(reference_grad_bias_ii, grad_bias_ii, rtol=1e-4, atol=1e-3)\n",
    "print(\"dL/db[ii] OK\")\n",
    "\n",
    "reference_grad_bias_jj = eval_numerical_gradient(\n",
    "    lambda x: compute_loss(dummy_emb_ii, dummy_emb_jj, dummy_bias_ii, x, dummy_counts_ij),\n",
    "    x=dummy_bias_jj)\n",
    "\n",
    "assert np.allclose(reference_grad_bias_jj, grad_bias_jj, rtol=1e-4, atol=1e-3)\n",
    "print(\"dL/db[jj] OK\")"
   ]
  },
  {
   "cell_type": "code",
   "execution_count": 42,
   "metadata": {},
   "outputs": [
    {
     "data": {
      "text/plain": [
       "(array([-0.69662399, -0.72184175, -0.85898326, -0.00747297]),\n",
       " array([-0.69662399, -0.72184175, -0.85898326, -0.00747297]))"
      ]
     },
     "execution_count": 42,
     "metadata": {},
     "output_type": "execute_result"
    }
   ],
   "source": [
    "reference_grad_bias_jj, grad_bias_jj"
   ]
  },
  {
   "cell_type": "code",
   "execution_count": 43,
   "metadata": {
    "id": "v8Unp2sHAFEy"
   },
   "outputs": [
    {
     "name": "stdout",
     "output_type": "stream",
     "text": [
      "dL/dEmb[ii] OK\n",
      "dL/dEmb[ii] OK\n",
      "All tests passed!\n"
     ]
    }
   ],
   "source": [
    "reference_grad_emb_ii = eval_numerical_gradient(\n",
    "    lambda x: compute_loss(x, dummy_emb_jj, dummy_bias_ii, dummy_bias_jj, dummy_counts_ij),\n",
    "    x=dummy_emb_ii)\n",
    "\n",
    "assert np.allclose(reference_grad_emb_ii, grad_emb_ii, rtol=1e-4, atol=1e-3)\n",
    "print(\"dL/dEmb[ii] OK\")\n",
    "\n",
    "\n",
    "reference_grad_emb_jj = eval_numerical_gradient(\n",
    "    lambda x: compute_loss(dummy_emb_ii, x, dummy_bias_ii, dummy_bias_jj, dummy_counts_ij),\n",
    "    x=dummy_emb_jj)\n",
    "\n",
    "assert np.allclose(reference_grad_emb_jj, grad_emb_jj, rtol=1e-4, atol=1e-3)\n",
    "print(\"dL/dEmb[ii] OK\")\n",
    "\n",
    "print(\"All tests passed!\")"
   ]
  },
  {
   "cell_type": "markdown",
   "metadata": {
    "id": "qiRd2ERLAFEz"
   },
   "source": [
    "### Part 3: Parallel GloVe training (50% points)\n",
    "\n",
    "Finally, let's write the actual parameter server for parallel GloVe training. In order to do so efficiently, we shall use shared memory instead of pipes.\n",
    "\n",
    "You can find an example of how shared memory works below:\n"
   ]
  },
  {
   "cell_type": "markdown",
   "metadata": {
    "id": "n8AF358WAFE0"
   },
   "source": [
    "### Demo: shared memory"
   ]
  },
  {
   "cell_type": "code",
   "execution_count": 44,
   "metadata": {
    "id": "-X0UxoWpAFE0"
   },
   "outputs": [],
   "source": [
    "def make_shared_array(shape, dtype, fill=None, lock=True):\n",
    "    \"\"\" Create a numpy array that is shared across processes. \"\"\"\n",
    "    size = int(np.prod(shape))\n",
    "    ctype = np.ctypeslib.as_ctypes_type(dtype)\n",
    "    if lock:\n",
    "        x_mp = mp.Array(ctype, size, lock=True).get_obj()\n",
    "    else:\n",
    "        x_mp = mp.Array(ctype, size, lock=False)\n",
    "    array = np.ctypeslib.as_array(x_mp)\n",
    "    if fill is not None:\n",
    "        array[...] = fill\n",
    "    return np.reshape(array, shape)"
   ]
  },
  {
   "cell_type": "code",
   "execution_count": 45,
   "metadata": {
    "id": "9Lc775zDAFE1"
   },
   "outputs": [],
   "source": [
    "shared_array = make_shared_array((5, 5), 'float32', fill=1)\n",
    "normal_array = np.ones((5, 5), 'float32')"
   ]
  },
  {
   "cell_type": "code",
   "execution_count": 46,
   "metadata": {},
   "outputs": [
    {
     "data": {
      "text/plain": [
       "array([[1., 1., 1., 1., 1.],\n",
       "       [1., 1., 1., 1., 1.],\n",
       "       [1., 1., 1., 1., 1.],\n",
       "       [1., 1., 1., 1., 1.],\n",
       "       [1., 1., 1., 1., 1.]], dtype=float32)"
      ]
     },
     "execution_count": 46,
     "metadata": {},
     "output_type": "execute_result"
    }
   ],
   "source": [
    "shared_array"
   ]
  },
  {
   "cell_type": "code",
   "execution_count": 47,
   "metadata": {
    "id": "yXishO2FAFE2"
   },
   "outputs": [],
   "source": [
    "def proc_A():\n",
    "    time.sleep(0.5)\n",
    "    print(\"A: setting value at [2, 3]\")\n",
    "    shared_array[2, 3] = 42\n",
    "    normal_array[2, 3] = 42\n",
    "    time.sleep(1)\n",
    "    print(f\"A: value after 1.5s: normal = {normal_array[2, 3]}\\t shared = {shared_array[2, 3]}\")\n",
    "    \n",
    "def proc_B():\n",
    "    print(f\"B: initial value: normal = {normal_array[2, 3]}\\t shared = {shared_array[2, 3]}\")\n",
    "    time.sleep(1)\n",
    "    print(f\"B: value after 1s: normal = {normal_array[2, 3]}\\t shared = {shared_array[2, 3]}\")\n",
    "    print(\"B: dividing value at [2, 3] by 2\")\n",
    "    shared_array[2, 3] /= 2\n",
    "    normal_array[2, 3] /= 2\n",
    "    time.sleep(1)\n",
    "    print(f\"B: value after 2s: normal = {normal_array[2, 3]}\\t shared = {shared_array[2, 3]}\")"
   ]
  },
  {
   "cell_type": "code",
   "execution_count": 48,
   "metadata": {
    "id": "81N-7Xi9AFE3"
   },
   "outputs": [
    {
     "name": "stdout",
     "output_type": "stream",
     "text": [
      "B: initial value: normal = 1.0\t shared = 1.0"
     ]
    }
   ],
   "source": [
    "mp.Process(target=proc_A).start()\n",
    "mp.Process(target=proc_B).start()"
   ]
  },
  {
   "cell_type": "code",
   "execution_count": 49,
   "metadata": {
    "id": "BWm-b7dRAFE4"
   },
   "outputs": [],
   "source": [
    "# the same can be done with individual values:\n",
    "x = mp.Value(np.ctypeslib.as_ctypes_type(np.int32))\n",
    "x.value += 1 # shared across all processes"
   ]
  },
  {
   "cell_type": "markdown",
   "metadata": {
    "id": "gG-du4ddAFE6"
   },
   "source": [
    "__So, let's put all trainable parameters in shared memory!__"
   ]
  },
  {
   "cell_type": "code",
   "execution_count": 50,
   "metadata": {
    "id": "c1JB__1kAFE6",
    "scrolled": true
   },
   "outputs": [],
   "source": [
    "class SharedEmbeddings:\n",
    "    \"\"\"\n",
    "    Word embeddings trainable parameters, allocated in shared memory\n",
    "    \"\"\"\n",
    "    def __init__(self, vocabulary_size: int, embedding_dimension: int, init_scale: float = 0.01):\n",
    "        self.embeddings = make_shared_array([vocabulary_size, embedding_dimension], np.float32, lock=False)\n",
    "        self.embeddings[...] = np.random.randn(*self.embeddings.shape) * init_scale\n",
    "        \n",
    "        self.biases = make_shared_array([vocabulary_size], np.float32, fill=0.0, lock=False)"
   ]
  },
  {
   "cell_type": "markdown",
   "metadata": {
    "id": "gr5PV0MfAFE6"
   },
   "source": [
    "### Training (single-core baseline)"
   ]
  },
  {
   "cell_type": "code",
   "execution_count": 51,
   "metadata": {},
   "outputs": [],
   "source": [
    "import os"
   ]
  },
  {
   "cell_type": "code",
   "execution_count": 52,
   "metadata": {},
   "outputs": [],
   "source": [
    "batch_size = 64\n",
    "learning_rate = 0.01\n",
    "max_steps = 10 ** 6\n",
    "\n",
    "start_time = time.perf_counter()\n",
    "timestep_history = []\n",
    "loss_history = []\n",
    "\n",
    "model = SharedEmbeddings(vocabulary_size, embedding_dimension=256)"
   ]
  },
  {
   "cell_type": "code",
   "execution_count": 53,
   "metadata": {
    "id": "kYwgvX5CAFE7"
   },
   "outputs": [
    {
     "data": {
      "image/png": "[encoded data removed]",
      "text/plain": [
       "<Figure size 432x288 with 1 Axes>"
      ]
     },
     "metadata": {
      "needs_background": "light"
     },
     "output_type": "display_data"
    },
    {
     "name": "stderr",
     "output_type": "stream",
     "text": [
      "100%|██████████| 1000000/1000000 [05:39<00:00, 2944.51it/s]"
     ]
    },
    {
     "name": "stdout",
     "output_type": "stream",
     "text": [
      "Single-core. Took 339.61716469796374 seconds...\n"
     ]
    },
    {
     "name": "stderr",
     "output_type": "stream",
     "text": [
      "\n"
     ]
    }
   ],
   "source": [
    "start = default_timer()\n",
    "for t in trange(max_steps):\n",
    "    batch_ix = np.random.randint(0, len(cooc.row), size=batch_size)\n",
    "    ii, jj, counts_ij = cooc.row[batch_ix], cooc.col[batch_ix], cooc.data[batch_ix]\n",
    "    \n",
    "    # Compute gradients\n",
    "    emb_ii, emb_jj, bias_ii, bias_jj = \\\n",
    "      model.embeddings[ii], model.embeddings[jj], model.biases[ii], model.biases[jj]\n",
    "    \n",
    "    grad_emb_ii, grad_emb_jj, grad_bias_ii, grad_bias_jj = compute_grads(\n",
    "        emb_ii, emb_jj, bias_ii, bias_jj, counts_ij)\n",
    "    \n",
    "    # SGD step\n",
    "    model.embeddings[ii] -= learning_rate * grad_emb_ii\n",
    "    model.embeddings[jj] -= learning_rate * grad_emb_jj\n",
    "    model.biases[ii] -= learning_rate * grad_bias_ii\n",
    "    model.biases[jj] -= learning_rate * grad_bias_jj\n",
    "    \n",
    "    if t % 10_000 == 0:\n",
    "        batch_ix = np.random.randint(0, len(cooc.row), size=4096)\n",
    "        ii, jj, counts_ij = cooc.row[batch_ix], cooc.col[batch_ix], cooc.data[batch_ix]\n",
    "        emb_ii, emb_jj, bias_ii, bias_jj = \\\n",
    "            model.embeddings[ii], model.embeddings[jj], model.biases[ii], model.biases[jj]\n",
    "        \n",
    "        loss = compute_loss(emb_ii, emb_jj, bias_ii, bias_jj, counts_ij)\n",
    "        print(f'Iter :{t},\\t, process: {os.getpid()} Loss: {loss}')\n",
    "\n",
    "\n",
    "        timestep_history.append(time.perf_counter() - start_time)\n",
    "        loss_history.append(compute_loss(emb_ii, emb_jj, bias_ii, bias_jj, counts_ij))\n",
    "        clear_output(True)\n",
    "        plt.plot(timestep_history, loss_history)\n",
    "        plt.xlabel('training time(seconds)')\n",
    "        plt.grid()\n",
    "        plt.show()\n",
    "end = default_timer()\n",
    "print(f'Single-core. Took {end - start} seconds...')\n",
    "    "
   ]
  },
  {
   "cell_type": "markdown",
   "metadata": {
    "id": "noZiGvffAFE8"
   },
   "source": [
    "__Now let's parallelize it!__\n",
    "\n",
    "The code above is cute, but it only uses one CPU core. Surely we can go faster!\n",
    "\n",
    "The main challenge in this week's seminar is to speed up GloVe training by all means necessary.\n",
    "\n",
    "Here's what you should do:\n",
    "* make multiple parallel workers, each training your model on different random data,\n",
    "* build some centralized means of progress tracking: track the average loss and the number of training steps,\n",
    "* implement workers in such a way that no process is left hanging after the training is over.\n",
    "\n",
    "\n",
    "Finally, please compare the loss / training time plot of your algorithm against the baseline.\n",
    "\n",
    "_Notes:_\n",
    "* Remember to set a different np.random.seed in each worker!\n",
    "* You can track the training progress either via mp.Pipe or via shared variables\n",
    "* It is better to separate training and plotting into different processes\n",
    "* If you want to prevent concurrent updates to shared memory, you can use [mp.Lock](https://docs.python.org/3/library/multiprocessing.html#multiprocessing.Lock) or similar."
   ]
  },
  {
   "cell_type": "code",
   "execution_count": 54,
   "metadata": {
    "id": "uTD4WQtjAFE9"
   },
   "outputs": [],
   "source": [
    "batch_size = 64\n",
    "learning_rate = 0.01\n",
    "max_steps = 10 ** 6\n",
    "start_time = time.perf_counter()\n",
    "timestep_history = []\n",
    "loss_history = []\n",
    "\n",
    "model = SharedEmbeddings(vocabulary_size, embedding_dimension=256)\n"
   ]
  },
  {
   "cell_type": "code",
   "execution_count": 55,
   "metadata": {},
   "outputs": [],
   "source": [
    "import os"
   ]
  },
  {
   "cell_type": "code",
   "execution_count": 56,
   "metadata": {},
   "outputs": [],
   "source": [
    "def update_step(batch_ix, t, output_queue):\n",
    "    ii, jj, counts_ij = cooc.row[batch_ix], cooc.col[batch_ix], cooc.data[batch_ix]\n",
    "    \n",
    "    # Compute gradients\n",
    "    emb_ii, emb_jj, bias_ii, bias_jj = \\\n",
    "      model.embeddings[ii], model.embeddings[jj], model.biases[ii], model.biases[jj]\n",
    "    \n",
    "    grad_emb_ii, grad_emb_jj, grad_bias_ii, grad_bias_jj = compute_grads(\n",
    "        emb_ii, emb_jj, bias_ii, bias_jj, counts_ij)\n",
    "    \n",
    "    # SGD step\n",
    "    model.embeddings[ii] -= learning_rate * grad_emb_ii\n",
    "    model.embeddings[jj] -= learning_rate * grad_emb_jj\n",
    "    model.biases[ii] -= learning_rate * grad_bias_ii\n",
    "    model.biases[jj] -= learning_rate * grad_bias_jj\n",
    "    if t % 10_000 == 0:\n",
    "        batch_ix = np.random.randint(0, len(cooc.row), size=4096)\n",
    "        ii, jj, counts_ij = cooc.row[batch_ix], cooc.col[batch_ix], cooc.data[batch_ix]\n",
    "        emb_ii, emb_jj, bias_ii, bias_jj = \\\n",
    "            model.embeddings[ii], model.embeddings[jj], model.biases[ii], model.biases[jj]\n",
    "        loss = compute_loss(emb_ii, emb_jj, bias_ii, bias_jj, counts_ij)\n",
    "        print(f'Iter :{t},\\t, process: {os.getpid()} Loss: {loss}')\n",
    "\n",
    "        # lock.acquire()\n",
    "        # timestep_history.append()\n",
    "        time_stamp = time.perf_counter() - start_time\n",
    "        output_queue.put((time_stamp, loss))\n",
    "        # lock.release()"
   ]
  },
  {
   "cell_type": "code",
   "execution_count": 57,
   "metadata": {},
   "outputs": [],
   "source": [
    "def worker(stack, output_queue):\n",
    "    while stack:\n",
    "        t, batch_ix = stack.get()\n",
    "        if t=='kill':\n",
    "            print(f'Process {os.getpid()} is killed\\n')\n",
    "            return\n",
    "        update_step(batch_ix, t, output_queue)"
   ]
  },
  {
   "cell_type": "code",
   "execution_count": 58,
   "metadata": {},
   "outputs": [],
   "source": [
    "batch_ix = zip(list(range(max_steps)), np.random.randint(0, len(cooc.row), size=(max_steps, batch_size)))"
   ]
  },
  {
   "cell_type": "code",
   "execution_count": 59,
   "metadata": {},
   "outputs": [],
   "source": [
    "from collections import deque\n",
    "n_cpu = mp.cpu_count()\n",
    "stack = deque(batch_ix)\n",
    "stack.extend([('kill','kill')]*n_cpu)\n",
    "lock = mp.Lock()"
   ]
  },
  {
   "cell_type": "code",
   "execution_count": 60,
   "metadata": {},
   "outputs": [],
   "source": [
    "# queue.close()\n",
    "# queue.join_thread()"
   ]
  },
  {
   "cell_type": "code",
   "execution_count": 61,
   "metadata": {},
   "outputs": [],
   "source": [
    "queue = mp.Queue()\n",
    "for el in stack:\n",
    "    queue.put(el)"
   ]
  },
  {
   "cell_type": "code",
   "execution_count": 62,
   "metadata": {},
   "outputs": [],
   "source": [
    "output_queue = mp.Queue()"
   ]
  },
  {
   "cell_type": "code",
   "execution_count": 63,
   "metadata": {},
   "outputs": [
    {
     "name": "stdout",
     "output_type": "stream",
     "text": [
      "Iter :0,\t, process: 20170 Loss: 0.4897383476470163\n",
      "Iter :10000,\t, process: 20177 Loss: 0.44107612357993414\n",
      "Iter :20000,\t, process: 20177 Loss: 0.3341316399121065\n",
      "Iter :30000,\t, process: 20178 Loss: 0.3718737725252671\n",
      "Iter :40000,\t, process: 20182 Loss: 0.34720468866500687\n",
      "Iter :50000,\t, process: 20170 Loss: 0.2673943025646888\n",
      "Iter :60000,\t, process: 20181 Loss: 0.31005308206017135\n",
      "Iter :70000,\t, process: 20178 Loss: 0.23858914947009055\n",
      "Iter :80000,\t, process: 20179 Loss: 0.28321213141394197\n",
      "Iter :90000,\t, process: 20178 Loss: 0.27910172897204244\n",
      "Iter :100000,\t, process: 20178 Loss: 0.232736121516992\n",
      "Iter :110000,\t, process: 20178 Loss: 0.2529086154137387\n",
      "Iter :120000,\t, process: 20182 Loss: 0.1946053204437262\n",
      "Iter :130000,\t, process: 20177 Loss: 0.23963522709567636\n",
      "Iter :140000,\t, process: 20182 Loss: 0.23240936789969563\n",
      "Iter :150000,\t, process: 20182 Loss: 0.20196450880367062\n",
      "Iter :160000,\t, process: 20181 Loss: 0.17423517121851503\n",
      "Iter :170000,\t, process: 20170 Loss: 0.21464788832114406\n",
      "Iter :180000,\t, process: 20182 Loss: 0.2027063531272654\n",
      "Iter :190000,\t, process: 20180 Loss: 0.21571276030450137\n",
      "Iter :200000,\t, process: 20170 Loss: 0.1824259582725223\n",
      "Iter :210000,\t, process: 20181 Loss: 0.19764771619610177\n",
      "Iter :220000,\t, process: 20181 Loss: 0.1763205547742892\n",
      "Iter :230000,\t, process: 20179 Loss: 0.15238592242721472\n",
      "Iter :240000,\t, process: 20179 Loss: 0.1876637927714467\n",
      "Iter :250000,\t, process: 20177 Loss: 0.16865918144054431\n",
      "Iter :260000,\t, process: 20180 Loss: 0.14608558120139317\n",
      "Iter :270000,\t, process: 20173 Loss: 0.1937125225435235\n",
      "Iter :280000,\t, process: 20178 Loss: 0.19294090031896788\n",
      "Iter :290000,\t, process: 20178 Loss: 0.14549883253217372\n",
      "Iter :300000,\t, process: 20177 Loss: 0.16129666521180896\n",
      "Iter :310000,\t, process: 20180 Loss: 0.17085563216136235\n",
      "Iter :320000,\t, process: 20177 Loss: 0.1847997685697319\n",
      "Iter :330000,\t, process: 20170 Loss: 0.1547186762067718\n",
      "Iter :340000,\t, process: 20181 Loss: 0.1528410304918652\n",
      "Iter :350000,\t, process: 20173 Loss: 0.13205423671659874\n",
      "Iter :360000,\t, process: 20177 Loss: 0.1341389955037019\n",
      "Iter :370000,\t, process: 20179 Loss: 0.14801960418761256\n",
      "Iter :380000,\t, process: 20182 Loss: 0.1752442393698945\n",
      "Iter :390000,\t, process: 20181 Loss: 0.17391859425542883\n",
      "Iter :400000,\t, process: 20173 Loss: 0.1567328543347979\n",
      "Iter :410000,\t, process: 20170 Loss: 0.17136833680966201\n",
      "Iter :420000,\t, process: 20179 Loss: 0.1404788509331063\n",
      "Iter :430000,\t, process: 20181 Loss: 0.12578204812154886\n",
      "Iter :440000,\t, process: 20178 Loss: 0.1463690325966487\n",
      "Iter :450000,\t, process: 20170 Loss: 0.1237900549291426\n",
      "Iter :460000,\t, process: 20182 Loss: 0.12281042103220334\n",
      "Iter :470000,\t, process: 20179 Loss: 0.1645877843385497\n",
      "Iter :480000,\t, process: 20179 Loss: 0.12096033313340171\n",
      "Iter :490000,\t, process: 20181 Loss: 0.1413786256125091\n",
      "Iter :500000,\t, process: 20179 Loss: 0.14051680642097825\n",
      "Iter :510000,\t, process: 20173 Loss: 0.13369682674130487\n",
      "Iter :520000,\t, process: 20179 Loss: 0.11971351133845644\n",
      "Iter :530000,\t, process: 20179 Loss: 0.11071757016061556\n",
      "Iter :540000,\t, process: 20181 Loss: 0.11839539037541685\n",
      "Iter :550000,\t, process: 20177 Loss: 0.13654192609403215\n",
      "Iter :560000,\t, process: 20180 Loss: 0.1299624930455613\n",
      "Iter :570000,\t, process: 20180 Loss: 0.12590479937889146\n",
      "Iter :580000,\t, process: 20178 Loss: 0.11605739889869846\n",
      "Iter :590000,\t, process: 20170 Loss: 0.13384574093860005\n",
      "Iter :600000,\t, process: 20181 Loss: 0.10688443194615543\n",
      "Iter :610000,\t, process: 20178 Loss: 0.10638137918873712\n",
      "Iter :620000,\t, process: 20173 Loss: 0.12255292065981477\n",
      "Iter :630000,\t, process: 20180 Loss: 0.15166009124355756\n",
      "Iter :640000,\t, process: 20170 Loss: 0.1130259069280595\n",
      "Iter :650000,\t, process: 20181 Loss: 0.11174167216997011\n",
      "Iter :660000,\t, process: 20180 Loss: 0.10889876281062094\n",
      "Iter :670000,\t, process: 20178 Loss: 0.1106461671823212\n",
      "Iter :680000,\t, process: 20180 Loss: 0.12870218901873168\n",
      "Iter :690000,\t, process: 20180 Loss: 0.1108821676017635\n",
      "Iter :700000,\t, process: 20170 Loss: 0.102708183423382\n",
      "Iter :710000,\t, process: 20173 Loss: 0.14678923083655634\n",
      "Iter :720000,\t, process: 20178 Loss: 0.12102968011456969\n",
      "Iter :730000,\t, process: 20173 Loss: 0.10577492108057586\n",
      "Iter :740000,\t, process: 20179 Loss: 0.10727936636276592\n",
      "Iter :750000,\t, process: 20182 Loss: 0.12555737376588927\n",
      "Iter :760000,\t, process: 20177 Loss: 0.10823801263187328\n",
      "Iter :770000,\t, process: 20180 Loss: 0.10040223919917733\n",
      "Iter :780000,\t, process: 20180 Loss: 0.1056169612826929\n",
      "Iter :790000,\t, process: 20178 Loss: 0.12037608333504773\n",
      "Iter :800000,\t, process: 20178 Loss: 0.11621589534677096\n",
      "Iter :810000,\t, process: 20170 Loss: 0.10448805766219137\n",
      "Iter :820000,\t, process: 20179 Loss: 0.1172172806162169\n",
      "Iter :830000,\t, process: 20173 Loss: 0.12262961865226989\n",
      "Iter :840000,\t, process: 20181 Loss: 0.11655422509287403\n",
      "Iter :850000,\t, process: 20181 Loss: 0.11788833513620471\n",
      "Iter :860000,\t, process: 20173 Loss: 0.1052296294148652\n",
      "Iter :870000,\t, process: 20177 Loss: 0.09762261247685916\n",
      "Iter :880000,\t, process: 20170 Loss: 0.11528410961502528\n",
      "Iter :890000,\t, process: 20181 Loss: 0.11349363511374824\n",
      "Iter :900000,\t, process: 20181 Loss: 0.11967001217143837\n",
      "Iter :910000,\t, process: 20181 Loss: 0.1186819118413236\n",
      "Iter :920000,\t, process: 20170 Loss: 0.1153729425244471\n",
      "Iter :930000,\t, process: 20178 Loss: 0.11886041156690619\n",
      "Iter :940000,\t, process: 20182 Loss: 0.10324713372712699\n",
      "Iter :950000,\t, process: 20182 Loss: 0.0959685435487024\n",
      "Iter :960000,\t, process: 20177 Loss: 0.09969731513408936\n",
      "Iter :970000,\t, process: 20177 Loss: 0.11273930089367973\n",
      "Iter :980000,\t, process: 20177 Loss: 0.1135102023279153\n",
      "Iter :990000,\t, process: 20178 Loss: 0.11656943310215852\n",
      "Process 20173 is killed\n",
      "Process 20178 is killed\n",
      "Process 20177 is killed\n",
      "Process 20170 is killed\n",
      "Process 20182 is killed\n",
      "Process 20180 is killed\n",
      "Process 20181 is killed\n",
      "Process 20179 is killed\n",
      "\n",
      "\n",
      "\n",
      "\n",
      "\n",
      "\n",
      "\n",
      "\n",
      "Multi-core. Took 62.28173368697753 seconds...\n"
     ]
    }
   ],
   "source": [
    "start = default_timer()\n",
    "ls = []\n",
    "for n in range(n_cpu):\n",
    "    proc = mp.Process(target=worker, args=[queue, output_queue])\n",
    "    ls.append(proc)\n",
    "    proc.start()\n",
    "\n",
    "for proc in ls:\n",
    "    proc.join()\n",
    "end = default_timer()\n",
    "print(f'Multi-core. Took {end - start} seconds...')"
   ]
  },
  {
   "cell_type": "code",
   "execution_count": 64,
   "metadata": {},
   "outputs": [],
   "source": [
    "timestep_history = []\n",
    "loss_history = []\n",
    "\n",
    "while not output_queue.empty():\n",
    "    stamp, loss = output_queue.get()\n",
    "    timestep_history.append(stamp)\n",
    "    loss_history.append(loss)"
   ]
  },
  {
   "cell_type": "code",
   "execution_count": 66,
   "metadata": {},
   "outputs": [
    {
     "data": {
      "image/png": "[encoded data removed]",
      "text/plain": [
       "<Figure size 432x288 with 1 Axes>"
      ]
     },
     "metadata": {
      "needs_background": "light"
     },
     "output_type": "display_data"
    }
   ],
   "source": [
    "plt.plot(timestep_history, loss_history)\n",
    "plt.xlabel('training time(seconds)')\n",
    "plt.grid()\n",
    "plt.show()"
   ]
  },
  {
   "cell_type": "markdown",
   "metadata": {
    "id": "ME0lZHuKAFE-"
   },
   "source": [
    "Hello, I'm `Misha` and here's what i've done:\n",
    "\n",
    "* I created the list of indexes and then put into mp.Queue\n",
    "* After that I just used mp.Pool and mp.Queue, pretty easy task to be honest\n",
    "\n"
   ]
  },
  {
   "cell_type": "code",
   "execution_count": null,
   "metadata": {},
   "outputs": [],
   "source": []
  }
 ],
 "metadata": {
  "colab": {
   "include_colab_link": true,
   "name": "practice.ipynb",
   "provenance": []
  },
  "kernelspec": {
   "display_name": "Python 3.10.4 ('mlops-new')",
   "language": "python",
   "name": "python3"
  },
  "language_info": {
   "codemirror_mode": {
    "name": "ipython",
    "version": 3
   },
   "file_extension": ".py",
   "mimetype": "text/x-python",
   "name": "python",
   "nbconvert_exporter": "python",
   "pygments_lexer": "ipython3",
   "version": "3.10.4"
  },
  "vscode": {
   "interpreter": {
    "hash": "76ad9d993d9b5e2a413384441c723ee3eaf312374b965fcfaa00a4bb1e33d21d"
   }
  }
 },
 "nbformat": 4,
 "nbformat_minor": 4
}
